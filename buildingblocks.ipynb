{
  "nbformat": 4,
  "nbformat_minor": 0,
  "metadata": {
    "colab": {
      "provenance": [],
      "toc_visible": true,
      "authorship_tag": "ABX9TyMI9xvlKAY5KT1EVJ77qp9U",
      "include_colab_link": true
    },
    "kernelspec": {
      "name": "python3",
      "display_name": "Python 3"
    },
    "language_info": {
      "name": "python"
    }
  },
  "cells": [
    {
      "cell_type": "markdown",
      "metadata": {
        "id": "view-in-github",
        "colab_type": "text"
      },
      "source": [
        "<a href=\"https://colab.research.google.com/github/imhilla/allmlnotebooks/blob/main/buildingblocks.ipynb\" target=\"_parent\"><img src=\"https://colab.research.google.com/assets/colab-badge.svg\" alt=\"Open In Colab\"/></a>"
      ]
    },
    {
      "cell_type": "code",
      "execution_count": 1,
      "metadata": {
        "id": "XlXL7ENPqBPf"
      },
      "outputs": [],
      "source": [
        "# the mathematical building blocks of neural networks"
      ]
    },
    {
      "cell_type": "code",
      "source": [
        "# a category in a classification problem is called class\n",
        "# data points are called samples\n",
        "# the class associated with a specific sample is called label\n"
      ],
      "metadata": {
        "id": "LXX9m3KCrnH8"
      },
      "execution_count": 2,
      "outputs": []
    },
    {
      "cell_type": "code",
      "source": [
        "from tensorflow.keras.datasets import mnist\n",
        "(train_images, train_labels), (test_images, test_labels) = mnist.load_data()"
      ],
      "metadata": {
        "colab": {
          "base_uri": "https://localhost:8080/"
        },
        "id": "QXmuw3ubtHkk",
        "outputId": "cc32b893-a929-42eb-a366-d7289577b2ff"
      },
      "execution_count": 3,
      "outputs": [
        {
          "output_type": "stream",
          "name": "stdout",
          "text": [
            "Downloading data from https://storage.googleapis.com/tensorflow/tf-keras-datasets/mnist.npz\n",
            "11490434/11490434 [==============================] - 1s 0us/step\n"
          ]
        }
      ]
    },
    {
      "cell_type": "code",
      "source": [
        "train_images.shape"
      ],
      "metadata": {
        "colab": {
          "base_uri": "https://localhost:8080/"
        },
        "id": "7MVoOtF1ten3",
        "outputId": "5920dfe8-ce5f-41ad-e048-a1c73c108a57"
      },
      "execution_count": 4,
      "outputs": [
        {
          "output_type": "execute_result",
          "data": {
            "text/plain": [
              "(60000, 28, 28)"
            ]
          },
          "metadata": {},
          "execution_count": 4
        }
      ]
    },
    {
      "cell_type": "code",
      "source": [
        "len(train_labels)"
      ],
      "metadata": {
        "colab": {
          "base_uri": "https://localhost:8080/"
        },
        "id": "zHOU5S5ptiwb",
        "outputId": "cf816cd1-1220-4c59-c38f-24e0c8dc0d39"
      },
      "execution_count": 5,
      "outputs": [
        {
          "output_type": "execute_result",
          "data": {
            "text/plain": [
              "60000"
            ]
          },
          "metadata": {},
          "execution_count": 5
        }
      ]
    },
    {
      "cell_type": "code",
      "source": [
        "train_labels"
      ],
      "metadata": {
        "colab": {
          "base_uri": "https://localhost:8080/"
        },
        "id": "yqFPDxMQtl-a",
        "outputId": "fdce939f-caed-4d1e-c828-41f7b39e06f2"
      },
      "execution_count": 6,
      "outputs": [
        {
          "output_type": "execute_result",
          "data": {
            "text/plain": [
              "array([5, 0, 4, ..., 5, 6, 8], dtype=uint8)"
            ]
          },
          "metadata": {},
          "execution_count": 6
        }
      ]
    },
    {
      "cell_type": "code",
      "source": [
        "test_images.shape"
      ],
      "metadata": {
        "colab": {
          "base_uri": "https://localhost:8080/"
        },
        "id": "iP5kYyoVtrNX",
        "outputId": "03e6b6a1-a36f-47c2-a247-ade033f2f03f"
      },
      "execution_count": 7,
      "outputs": [
        {
          "output_type": "execute_result",
          "data": {
            "text/plain": [
              "(10000, 28, 28)"
            ]
          },
          "metadata": {},
          "execution_count": 7
        }
      ]
    },
    {
      "cell_type": "code",
      "source": [
        "len(test_labels)"
      ],
      "metadata": {
        "colab": {
          "base_uri": "https://localhost:8080/"
        },
        "id": "HNiODiM0twyC",
        "outputId": "faa3bd3a-fb48-4fd1-e88d-7709e89a8f6a"
      },
      "execution_count": 8,
      "outputs": [
        {
          "output_type": "execute_result",
          "data": {
            "text/plain": [
              "10000"
            ]
          },
          "metadata": {},
          "execution_count": 8
        }
      ]
    },
    {
      "cell_type": "code",
      "source": [
        "test_labels"
      ],
      "metadata": {
        "colab": {
          "base_uri": "https://localhost:8080/"
        },
        "id": "9cc80FvSt0Ne",
        "outputId": "38d825b9-abac-4e7d-dce2-11439fe162f9"
      },
      "execution_count": 9,
      "outputs": [
        {
          "output_type": "execute_result",
          "data": {
            "text/plain": [
              "array([7, 2, 1, ..., 4, 5, 6], dtype=uint8)"
            ]
          },
          "metadata": {},
          "execution_count": 9
        }
      ]
    },
    {
      "cell_type": "code",
      "source": [
        "from tensorflow import keras\n",
        "from tensorflow.keras import layers\n",
        "\n",
        "model = keras.Sequential([\n",
        "    layers.Dense(512, activation='relu'),\n",
        "    layers.Dense(10, activation='softmax')\n",
        "])"
      ],
      "metadata": {
        "id": "_1zpqp_At7oS"
      },
      "execution_count": 10,
      "outputs": []
    },
    {
      "cell_type": "code",
      "source": [
        "# an optimizer - mechanism through which the model will update itself based on the training data it sees, so as to improve it's performance\n",
        "# a loss function - how the model will be able to measure it's performance on the training data and thus how it will be able to steer itself in the right direction\n",
        "# metrics to monitor during training and testing\n",
        "\n",
        "model.compile(\n",
        "    optimizer='rmsprop',\n",
        "    loss='sparse_categorical_crossentropy',\n",
        "    metrics=['accuracy']\n",
        ")"
      ],
      "metadata": {
        "id": "9okZx3aTz7r1"
      },
      "execution_count": 11,
      "outputs": []
    },
    {
      "cell_type": "code",
      "source": [
        "train_images = train_images.reshape((60000, 28 * 28))\n",
        "train_images = train_images.astype(\"float32\") / 255\n",
        "test_images = test_images.reshape((10000, 28 * 28))\n",
        "test_images = test_images.astype(\"float32\") / 255"
      ],
      "metadata": {
        "id": "b9-lFDVC04WM"
      },
      "execution_count": 12,
      "outputs": []
    },
    {
      "cell_type": "code",
      "source": [
        "model.fit(train_images, train_labels, epochs=5, batch_size=128)"
      ],
      "metadata": {
        "colab": {
          "base_uri": "https://localhost:8080/"
        },
        "id": "cYs8JhYc1tDd",
        "outputId": "b3a9960d-8454-4b10-da8f-c1e31b71c027"
      },
      "execution_count": 13,
      "outputs": [
        {
          "output_type": "stream",
          "name": "stdout",
          "text": [
            "Epoch 1/5\n",
            "469/469 [==============================] - 4s 7ms/step - loss: 0.2640 - accuracy: 0.9240\n",
            "Epoch 2/5\n",
            "469/469 [==============================] - 3s 7ms/step - loss: 0.1068 - accuracy: 0.9690\n",
            "Epoch 3/5\n",
            "469/469 [==============================] - 5s 10ms/step - loss: 0.0697 - accuracy: 0.9796\n",
            "Epoch 4/5\n",
            "469/469 [==============================] - 5s 11ms/step - loss: 0.0501 - accuracy: 0.9851\n",
            "Epoch 5/5\n",
            "469/469 [==============================] - 5s 11ms/step - loss: 0.0374 - accuracy: 0.9887\n"
          ]
        },
        {
          "output_type": "execute_result",
          "data": {
            "text/plain": [
              "<keras.callbacks.History at 0x7fb5395e7430>"
            ]
          },
          "metadata": {},
          "execution_count": 13
        }
      ]
    },
    {
      "cell_type": "code",
      "source": [
        "test_digits = test_images[0:10]\n",
        "predictions = model.predict(test_digits)\n",
        "predictions[0]"
      ],
      "metadata": {
        "colab": {
          "base_uri": "https://localhost:8080/"
        },
        "id": "ZXuSx9Vb2FZq",
        "outputId": "7d011ad1-34f7-4a6e-fc68-1241fbc097f0"
      },
      "execution_count": 14,
      "outputs": [
        {
          "output_type": "stream",
          "name": "stdout",
          "text": [
            "1/1 [==============================] - 0s 211ms/step\n"
          ]
        },
        {
          "output_type": "execute_result",
          "data": {
            "text/plain": [
              "array([5.3008481e-08, 2.1683457e-09, 4.3680006e-06, 6.5336222e-05,\n",
              "       1.4789356e-11, 3.9938488e-08, 2.9734609e-12, 9.9992508e-01,\n",
              "       1.6243274e-07, 4.9875857e-06], dtype=float32)"
            ]
          },
          "metadata": {},
          "execution_count": 14
        }
      ]
    },
    {
      "cell_type": "code",
      "source": [
        "new_test_digit = test_images[[0]]\n",
        "new_prediction = model.predict(new_test_digit)\n",
        "print(new_prediction.argmax())"
      ],
      "metadata": {
        "colab": {
          "base_uri": "https://localhost:8080/"
        },
        "id": "UJcaoxIpDZra",
        "outputId": "257bced1-cb7e-4946-8980-6290bef3e0b7"
      },
      "execution_count": 15,
      "outputs": [
        {
          "output_type": "stream",
          "name": "stdout",
          "text": [
            "1/1 [==============================] - 0s 19ms/step\n",
            "7\n"
          ]
        }
      ]
    },
    {
      "cell_type": "code",
      "source": [
        "predictions[0].argmax()"
      ],
      "metadata": {
        "colab": {
          "base_uri": "https://localhost:8080/"
        },
        "id": "u7FyFBaM3CHY",
        "outputId": "9e0a6acf-0be2-4891-e8ee-199a1e6e74ff"
      },
      "execution_count": 16,
      "outputs": [
        {
          "output_type": "execute_result",
          "data": {
            "text/plain": [
              "7"
            ]
          },
          "metadata": {},
          "execution_count": 16
        }
      ]
    },
    {
      "cell_type": "code",
      "source": [
        "predictions[0][7]"
      ],
      "metadata": {
        "colab": {
          "base_uri": "https://localhost:8080/"
        },
        "id": "Qnu-cZNE3RgW",
        "outputId": "779b5dd0-0385-442f-bc3e-6f5364cd6d9f"
      },
      "execution_count": 17,
      "outputs": [
        {
          "output_type": "execute_result",
          "data": {
            "text/plain": [
              "0.9999251"
            ]
          },
          "metadata": {},
          "execution_count": 17
        }
      ]
    },
    {
      "cell_type": "code",
      "source": [
        "test_labels[0]"
      ],
      "metadata": {
        "colab": {
          "base_uri": "https://localhost:8080/"
        },
        "id": "wYuGLkav3VIH",
        "outputId": "a7750009-52b8-4605-df00-b9504ef473b2"
      },
      "execution_count": 18,
      "outputs": [
        {
          "output_type": "execute_result",
          "data": {
            "text/plain": [
              "7"
            ]
          },
          "metadata": {},
          "execution_count": 18
        }
      ]
    },
    {
      "cell_type": "code",
      "source": [
        "# evaluating the model on new data\n",
        "test_loss, test_acc = model.evaluate(test_images, test_labels)\n",
        "print(f\"test_acc: {test_acc}\")"
      ],
      "metadata": {
        "colab": {
          "base_uri": "https://localhost:8080/"
        },
        "id": "1Ek1bm1U3cU3",
        "outputId": "b80ea120-2555-4ce7-e82e-1f17e69b0ab2"
      },
      "execution_count": 19,
      "outputs": [
        {
          "output_type": "stream",
          "name": "stdout",
          "text": [
            "313/313 [==============================] - 1s 2ms/step - loss: 0.0698 - accuracy: 0.9791\n",
            "test_acc: 0.9790999889373779\n"
          ]
        }
      ]
    },
    {
      "cell_type": "code",
      "source": [
        "# 2.2 Data representations for neural networks\n",
        "# tensor is a container for data"
      ],
      "metadata": {
        "id": "DvH1XjWC35Xk"
      },
      "execution_count": 20,
      "outputs": []
    },
    {
      "cell_type": "code",
      "source": [
        "# scalars / rank-0 tensors\n",
        "# tensor that contains only one number is called a scalar or rank-0 tensor\n",
        "# you can display the number of axes of a numpy tensor via ndim attribute \n",
        "# a scalar tensor has 0 axis (ndim == 0)\n",
        "# the number of axes of a tensor is also called its rank.\n",
        "import numpy as np\n",
        "x = np.array(12)\n",
        "x\n",
        "x.ndim"
      ],
      "metadata": {
        "colab": {
          "base_uri": "https://localhost:8080/"
        },
        "id": "r6aRFkzltfm1",
        "outputId": "1ba1d6fa-a1e2-460b-9ffd-a8bba09ca62f"
      },
      "execution_count": 21,
      "outputs": [
        {
          "output_type": "execute_result",
          "data": {
            "text/plain": [
              "0"
            ]
          },
          "metadata": {},
          "execution_count": 21
        }
      ]
    },
    {
      "cell_type": "code",
      "source": [
        "# vectors\n",
        "# an array of numbers is called a vector, or rank-1 tensor or 1D tensor.\n",
        "x = np.array([12, 3, 6, 14, 7])\n",
        "x\n",
        "x.ndim"
      ],
      "metadata": {
        "colab": {
          "base_uri": "https://localhost:8080/"
        },
        "id": "VHR1Mk1qwVC0",
        "outputId": "5ef750e3-5426-41c6-9feb-6a4d5938bb54"
      },
      "execution_count": 22,
      "outputs": [
        {
          "output_type": "execute_result",
          "data": {
            "text/plain": [
              "1"
            ]
          },
          "metadata": {},
          "execution_count": 22
        }
      ]
    },
    {
      "cell_type": "code",
      "source": [
        "# matrices rank-2 tensors\n",
        "# an array of vectors is a matrix, or rank-2 tensor or 2D tensor.\n",
        "# a matrix has two axes, rows and columns\n",
        "x = np.array([[5, 78, 2, 34, 0],\n",
        "              [6, 79, 3, 35, 1],\n",
        "              [7, 80, 4, 36, 2]])\n",
        "x.ndim"
      ],
      "metadata": {
        "colab": {
          "base_uri": "https://localhost:8080/"
        },
        "id": "D_Bkc9THw957",
        "outputId": "6c09863f-8795-45ae-ffbf-2284eaeb64fd"
      },
      "execution_count": 23,
      "outputs": [
        {
          "output_type": "execute_result",
          "data": {
            "text/plain": [
              "2"
            ]
          },
          "metadata": {},
          "execution_count": 23
        }
      ]
    },
    {
      "cell_type": "code",
      "source": [
        "# rank 3 tensors\n",
        "# if you pack matrices in a new array, you obtain a rank-3 tensor\n",
        "x = np.array([[[5, 78, 2, 34, 0],\n",
        "              [6, 79, 3, 35, 1],\n",
        "              [7, 80, 4, 36, 2]],\n",
        "              [[5, 78, 2, 34, 0],\n",
        "              [6, 79, 3, 35, 1],\n",
        "              [7, 80, 4, 36, 2]],\n",
        "              [[5, 78, 2, 34, 0],\n",
        "              [6, 79, 3, 35, 1],\n",
        "              [7, 80, 4, 36, 2]]])\n",
        "x.ndim"
      ],
      "metadata": {
        "colab": {
          "base_uri": "https://localhost:8080/"
        },
        "id": "G3GEZfXIx1Xv",
        "outputId": "5e30977e-86c5-4800-db17-fbf9bf6d9616"
      },
      "execution_count": 24,
      "outputs": [
        {
          "output_type": "execute_result",
          "data": {
            "text/plain": [
              "3"
            ]
          },
          "metadata": {},
          "execution_count": 24
        }
      ]
    },
    {
      "cell_type": "code",
      "source": [
        "from tensorflow.keras.datasets import mnist\n",
        "\n",
        "(train_images, train_labels), (test_images, test_labels) = mnist.load_data()\n",
        "\n",
        "train_images.ndim\n",
        "train_images.shape\n",
        "train_images.dtype"
      ],
      "metadata": {
        "colab": {
          "base_uri": "https://localhost:8080/"
        },
        "id": "MPEYMYYBy4z2",
        "outputId": "1085b49a-1162-436f-c978-25c752014ad0"
      },
      "execution_count": 25,
      "outputs": [
        {
          "output_type": "execute_result",
          "data": {
            "text/plain": [
              "dtype('uint8')"
            ]
          },
          "metadata": {},
          "execution_count": 25
        }
      ]
    },
    {
      "cell_type": "code",
      "source": [
        "import matplotlib.pyplot as plt\n",
        "digit = train_images[4]\n",
        "plt.imshow(digit, cmap=plt.cm.binary)\n",
        "plt.show()"
      ],
      "metadata": {
        "colab": {
          "base_uri": "https://localhost:8080/",
          "height": 265
        },
        "id": "oGJchuoXzYWN",
        "outputId": "50965237-422f-4619-a428-f4908489a043"
      },
      "execution_count": 26,
      "outputs": [
        {
          "output_type": "display_data",
          "data": {
            "text/plain": [
              "<Figure size 432x288 with 1 Axes>"
            ],
            "image/png": "[encoded data removed]"
          },
          "metadata": {
            "needs_background": "light"
          }
        }
      ]
    },
    {
      "cell_type": "code",
      "source": [
        "train_labels[4]"
      ],
      "metadata": {
        "colab": {
          "base_uri": "https://localhost:8080/"
        },
        "id": "vEKHYiOdzuw6",
        "outputId": "230c0608-38e5-471e-9acb-8b123a07e61d"
      },
      "execution_count": 27,
      "outputs": [
        {
          "output_type": "execute_result",
          "data": {
            "text/plain": [
              "9"
            ]
          },
          "metadata": {},
          "execution_count": 27
        }
      ]
    },
    {
      "cell_type": "code",
      "source": [
        "my_slice = train_images[10:100]\n",
        "my_slice.shape"
      ],
      "metadata": {
        "colab": {
          "base_uri": "https://localhost:8080/"
        },
        "id": "B3mf8cU60EpS",
        "outputId": "665e58c0-2e50-4f77-fcb3-f92dd092b088"
      },
      "execution_count": 28,
      "outputs": [
        {
          "output_type": "execute_result",
          "data": {
            "text/plain": [
              "(90, 28, 28)"
            ]
          },
          "metadata": {},
          "execution_count": 28
        }
      ]
    },
    {
      "cell_type": "code",
      "source": [
        "my_slice = train_images[10:100, :, :]\n",
        "my_slice.shape"
      ],
      "metadata": {
        "colab": {
          "base_uri": "https://localhost:8080/"
        },
        "id": "3eJhBGtB0a2W",
        "outputId": "a0247c50-56f3-4f74-bad5-c78f8a1e5d2c"
      },
      "execution_count": 29,
      "outputs": [
        {
          "output_type": "execute_result",
          "data": {
            "text/plain": [
              "(90, 28, 28)"
            ]
          },
          "metadata": {},
          "execution_count": 29
        }
      ]
    },
    {
      "cell_type": "code",
      "source": [
        "my_slice = train_images[10:100, 0:28, 0:28]\n",
        "my_slice.shape"
      ],
      "metadata": {
        "colab": {
          "base_uri": "https://localhost:8080/"
        },
        "id": "KLNRi2BX0nc8",
        "outputId": "7acfdc02-bdb2-4546-f1ed-35fbad610928"
      },
      "execution_count": 30,
      "outputs": [
        {
          "output_type": "execute_result",
          "data": {
            "text/plain": [
              "(90, 28, 28)"
            ]
          },
          "metadata": {},
          "execution_count": 30
        }
      ]
    },
    {
      "cell_type": "code",
      "source": [
        "# notion of batches\n",
        "batch = train_images[:128]\n",
        "batch = train_images[128:256]\n",
        "n = 3\n",
        "batch = train_images[128*n:128 *(n+1)]\n",
        "# print(batch)\n",
        "# batch"
      ],
      "metadata": {
        "id": "1L5iSBz71dS8"
      },
      "execution_count": 31,
      "outputs": []
    },
    {
      "cell_type": "code",
      "source": [
        "# gears of neural networks: Tensor operations\n",
        "# all transformations learned by deep neural networks can be reduced to a handful of tensor operations \n",
        "# or tensor functions applied to tensors of numeric data.\n",
        "# a keras layers instance looks like this\n",
        "# keras.layers.Dense(512, activation=\"relu\")\n",
        "# this layer can be interpreted as a function, which takes an input a matrix and returns another matrix\n",
        "# a new representation for the input tensor\n",
        "# output = relu(dot(input, W) + b)\n",
        "# A dot product between the input tensor and a tensor named W\n",
        "# An addition between the resulting matrix and a vector b\n",
        "#  A relu operation relu(x) is max(x, 0) \n",
        "# relu stands for \"rectified linear unit\""
      ],
      "metadata": {
        "id": "xTe14_zW8-kG"
      },
      "execution_count": 32,
      "outputs": []
    },
    {
      "cell_type": "code",
      "source": [
        "# element wise operations\n",
        "# the relu operation and addition are element wise operations, operations that are applied independently \n",
        "# to each entry in the tensors being considered."
      ],
      "metadata": {
        "id": "iuwoyNcOKEX2"
      },
      "execution_count": 32,
      "outputs": []
    },
    {
      "cell_type": "code",
      "source": [
        "# naive python implementation of an element wise relu operation\n",
        "def naive_relu(x):\n",
        "  assert len(x.shape) == 2\n",
        "  x = x.copy()\n",
        "  for i in range(x.shape[0]):\n",
        "    for j in range(x.shape[1]):\n",
        "      x[i, j] = max(x[i, j], 0)\n",
        "  return x\n",
        "\n",
        "# addition\n",
        "def naive_add(x, y):\n",
        "  assert len(x.shape) == 2\n",
        "  assert x.shape == y.shape\n",
        "  x = x.copy()\n",
        "  for i in range(x.shape[0]):\n",
        "    for j in range(x.shape[1]):\n",
        "      x[i, j] += y[i, j]\n",
        "  return x"
      ],
      "metadata": {
        "id": "boRV5yFIPW25"
      },
      "execution_count": 39,
      "outputs": []
    },
    {
      "cell_type": "code",
      "source": [
        "# broadcasting\n",
        "import numpy as np\n",
        "x = np.random.random((32, 10))\n",
        "y = np.random.random((10))\n",
        "\n",
        "y = np.expand_dims(y, axis=0)\n",
        "y = np.concatenate([y] * 32, axis=0)\n",
        "print(y)"
      ],
      "metadata": {
        "colab": {
          "base_uri": "https://localhost:8080/"
        },
        "id": "ud9IlB0wS7x9",
        "outputId": "18197227-167c-4e74-fc86-d01b31178b6d"
      },
      "execution_count": 46,
      "outputs": [
        {
          "output_type": "stream",
          "name": "stdout",
          "text": [
            "[[0.82125424 0.45891808 0.56268757 0.54307141 0.43037424 0.18980795\n",
            "  0.30821101 0.18401997 0.68936769 0.11834205]\n",
            " [0.82125424 0.45891808 0.56268757 0.54307141 0.43037424 0.18980795\n",
            "  0.30821101 0.18401997 0.68936769 0.11834205]\n",
            " [0.82125424 0.45891808 0.56268757 0.54307141 0.43037424 0.18980795\n",
            "  0.30821101 0.18401997 0.68936769 0.11834205]\n",
            " [0.82125424 0.45891808 0.56268757 0.54307141 0.43037424 0.18980795\n",
            "  0.30821101 0.18401997 0.68936769 0.11834205]\n",
            " [0.82125424 0.45891808 0.56268757 0.54307141 0.43037424 0.18980795\n",
            "  0.30821101 0.18401997 0.68936769 0.11834205]\n",
            " [0.82125424 0.45891808 0.56268757 0.54307141 0.43037424 0.18980795\n",
            "  0.30821101 0.18401997 0.68936769 0.11834205]\n",
            " [0.82125424 0.45891808 0.56268757 0.54307141 0.43037424 0.18980795\n",
            "  0.30821101 0.18401997 0.68936769 0.11834205]\n",
            " [0.82125424 0.45891808 0.56268757 0.54307141 0.43037424 0.18980795\n",
            "  0.30821101 0.18401997 0.68936769 0.11834205]\n",
            " [0.82125424 0.45891808 0.56268757 0.54307141 0.43037424 0.18980795\n",
            "  0.30821101 0.18401997 0.68936769 0.11834205]\n",
            " [0.82125424 0.45891808 0.56268757 0.54307141 0.43037424 0.18980795\n",
            "  0.30821101 0.18401997 0.68936769 0.11834205]\n",
            " [0.82125424 0.45891808 0.56268757 0.54307141 0.43037424 0.18980795\n",
            "  0.30821101 0.18401997 0.68936769 0.11834205]\n",
            " [0.82125424 0.45891808 0.56268757 0.54307141 0.43037424 0.18980795\n",
            "  0.30821101 0.18401997 0.68936769 0.11834205]\n",
            " [0.82125424 0.45891808 0.56268757 0.54307141 0.43037424 0.18980795\n",
            "  0.30821101 0.18401997 0.68936769 0.11834205]\n",
            " [0.82125424 0.45891808 0.56268757 0.54307141 0.43037424 0.18980795\n",
            "  0.30821101 0.18401997 0.68936769 0.11834205]\n",
            " [0.82125424 0.45891808 0.56268757 0.54307141 0.43037424 0.18980795\n",
            "  0.30821101 0.18401997 0.68936769 0.11834205]\n",
            " [0.82125424 0.45891808 0.56268757 0.54307141 0.43037424 0.18980795\n",
            "  0.30821101 0.18401997 0.68936769 0.11834205]\n",
            " [0.82125424 0.45891808 0.56268757 0.54307141 0.43037424 0.18980795\n",
            "  0.30821101 0.18401997 0.68936769 0.11834205]\n",
            " [0.82125424 0.45891808 0.56268757 0.54307141 0.43037424 0.18980795\n",
            "  0.30821101 0.18401997 0.68936769 0.11834205]\n",
            " [0.82125424 0.45891808 0.56268757 0.54307141 0.43037424 0.18980795\n",
            "  0.30821101 0.18401997 0.68936769 0.11834205]\n",
            " [0.82125424 0.45891808 0.56268757 0.54307141 0.43037424 0.18980795\n",
            "  0.30821101 0.18401997 0.68936769 0.11834205]\n",
            " [0.82125424 0.45891808 0.56268757 0.54307141 0.43037424 0.18980795\n",
            "  0.30821101 0.18401997 0.68936769 0.11834205]\n",
            " [0.82125424 0.45891808 0.56268757 0.54307141 0.43037424 0.18980795\n",
            "  0.30821101 0.18401997 0.68936769 0.11834205]\n",
            " [0.82125424 0.45891808 0.56268757 0.54307141 0.43037424 0.18980795\n",
            "  0.30821101 0.18401997 0.68936769 0.11834205]\n",
            " [0.82125424 0.45891808 0.56268757 0.54307141 0.43037424 0.18980795\n",
            "  0.30821101 0.18401997 0.68936769 0.11834205]\n",
            " [0.82125424 0.45891808 0.56268757 0.54307141 0.43037424 0.18980795\n",
            "  0.30821101 0.18401997 0.68936769 0.11834205]\n",
            " [0.82125424 0.45891808 0.56268757 0.54307141 0.43037424 0.18980795\n",
            "  0.30821101 0.18401997 0.68936769 0.11834205]\n",
            " [0.82125424 0.45891808 0.56268757 0.54307141 0.43037424 0.18980795\n",
            "  0.30821101 0.18401997 0.68936769 0.11834205]\n",
            " [0.82125424 0.45891808 0.56268757 0.54307141 0.43037424 0.18980795\n",
            "  0.30821101 0.18401997 0.68936769 0.11834205]\n",
            " [0.82125424 0.45891808 0.56268757 0.54307141 0.43037424 0.18980795\n",
            "  0.30821101 0.18401997 0.68936769 0.11834205]\n",
            " [0.82125424 0.45891808 0.56268757 0.54307141 0.43037424 0.18980795\n",
            "  0.30821101 0.18401997 0.68936769 0.11834205]\n",
            " [0.82125424 0.45891808 0.56268757 0.54307141 0.43037424 0.18980795\n",
            "  0.30821101 0.18401997 0.68936769 0.11834205]\n",
            " [0.82125424 0.45891808 0.56268757 0.54307141 0.43037424 0.18980795\n",
            "  0.30821101 0.18401997 0.68936769 0.11834205]]\n"
          ]
        }
      ]
    },
    {
      "cell_type": "code",
      "source": [
        "def naive_add_matrix_and_vector(x, y):\n",
        "  assert len(x.shape) == 2\n",
        "  assert len(y.shape) == 1\n",
        "  assert x.shape[1] == y.shape[0]\n",
        "  x = x.copy()\n",
        "  for i in range(x.shape[0]):\n",
        "    for j in range(x.shape[1]):\n",
        "      x[i, j] += y[j]\n",
        "  return x"
      ],
      "metadata": {
        "id": "8E3PD4k_UkUv"
      },
      "execution_count": 48,
      "outputs": []
    },
    {
      "cell_type": "code",
      "source": [
        "import numpy as np\n",
        "x = np.random.random((64, 3, 32, 10))\n",
        "y = np.random.random((32, 10))\n",
        "z = np.maximum(x, y)\n",
        "print(z.shape)"
      ],
      "metadata": {
        "colab": {
          "base_uri": "https://localhost:8080/"
        },
        "id": "R2Tx7OLRVvzx",
        "outputId": "39607722-cda8-4425-9561-ac076bc472d9"
      },
      "execution_count": 51,
      "outputs": [
        {
          "output_type": "stream",
          "name": "stdout",
          "text": [
            "(64, 3, 32, 10)\n"
          ]
        }
      ]
    },
    {
      "cell_type": "code",
      "source": [
        "# tensor product\n",
        "# most common operation\n",
        "# in numpy, a tensor product is done using np.dot\n",
        "x = np.random.random((32))\n",
        "y = np.random.random((32))\n",
        "z = np.dot(x, y)\n",
        "print(y)\n",
        "print(z)"
      ],
      "metadata": {
        "colab": {
          "base_uri": "https://localhost:8080/"
        },
        "id": "oPBUniORWKBN",
        "outputId": "7d3d8400-b338-41f3-c270-2621294cc283"
      },
      "execution_count": 56,
      "outputs": [
        {
          "output_type": "stream",
          "name": "stdout",
          "text": [
            "[0.85211545 0.68829318 0.91756967 0.11279221 0.06630616 0.08934645\n",
            " 0.98069159 0.5123771  0.08772517 0.10707883 0.40151275 0.70791269\n",
            " 0.66751343 0.55481153 0.19477928 0.03431796 0.47832869 0.70742049\n",
            " 0.68660095 0.34727582 0.01236397 0.43324995 0.63703917 0.96231967\n",
            " 0.51211965 0.72725434 0.31800895 0.74823804 0.53949933 0.56544004\n",
            " 0.38517571 0.64598378]\n",
            "5.695137113016683\n"
          ]
        }
      ]
    },
    {
      "cell_type": "code",
      "source": [
        "def naive_vector_dot(x, y):\n",
        "  assert len(x.shape) == 1\n",
        "  assert len(y.shape) == 1\n",
        "  assert x.shape[0] == y.shape[0]\n",
        "  z = 0\n",
        "  for i in range(x.shape[0]):\n",
        "    z += x[i] * y[i]\n",
        "  return z"
      ],
      "metadata": {
        "id": "Yxy2NNmNXLiB"
      },
      "execution_count": 57,
      "outputs": []
    },
    {
      "cell_type": "code",
      "source": [
        "def naive_matrix_vector_dot(x, y):\n",
        "  assert len(x.shape) == 2\n",
        "  assert len(y.shape) == 1\n",
        "  assert x.shape[1] == y.shape[0]\n",
        "  z = np.zeros(x.shape[0])\n",
        "  for i in range(x.shape[0]):\n",
        "    for j in range(x.shape[1]):\n",
        "      z[i] += x[i, j] * y[j]\n",
        "  return z"
      ],
      "metadata": {
        "id": "csufB7xSX2pn"
      },
      "execution_count": 58,
      "outputs": []
    },
    {
      "cell_type": "code",
      "source": [
        "def naive_matrix_dot(x, y):\n",
        "  assert len(x.shape) == 2\n",
        "  assert len(y.shape) == 2\n",
        "  assert x.shape[1] == y.shape[0]\n",
        "  z = np.zeros((x.shape[0], y.shape[1]))\n",
        "  for i in range(x.shape[0]):\n",
        "    for j in range(y.shape[1]):\n",
        "      row_x = x[i, :]\n",
        "      column_y = y[:, j]\n",
        "      z[i, j] = naive_vector_dot(row_x, column_y)\n",
        "  return z\n"
      ],
      "metadata": {
        "id": "OXtuasruaPHp"
      },
      "execution_count": 59,
      "outputs": []
    }
  ]
}